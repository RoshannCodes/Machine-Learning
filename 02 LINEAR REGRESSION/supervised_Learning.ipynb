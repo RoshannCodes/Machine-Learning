{
 "cells": [
  {
   "cell_type": "code",
   "execution_count": 1,
   "metadata": {},
   "outputs": [],
   "source": [
    "#any machine learning problem where numerical data or value is to be calculated, it is called as REGRESSION MACHINE LEARNING!!!"
   ]
  },
  {
   "cell_type": "code",
   "execution_count": 2,
   "metadata": {},
   "outputs": [
    {
     "name": "stdout",
     "output_type": "stream",
     "text": [
      "Roshan\n"
     ]
    }
   ],
   "source": [
    "#LINEAR REGRESSION is one of the type of regression!\n",
    "print('Roshan')"
   ]
  },
  {
   "cell_type": "code",
   "execution_count": 3,
   "metadata": {},
   "outputs": [
    {
     "name": "stdout",
     "output_type": "stream",
     "text": [
      "3\n"
     ]
    }
   ],
   "source": [
    "#Next type to regression is CLASSIFICATION MODEL which predicts categories! There is small number of possible outputs in classfication model!\n",
    "print(3)"
   ]
  },
  {
   "cell_type": "code",
   "execution_count": 5,
   "metadata": {},
   "outputs": [],
   "source": [
    "#TRAINING SET: dataset that we use to train model\n",
    "# X(input)   : feature\n",
    "# y(output)  : target\n",
    "\n",
    "#y denotes the target that is correct and is given as a sample in training set by user!\n",
    "# y-hat (y^) is the predicted value by the algorithm and it may or maynot be accurately correct!!"
   ]
  }
 ],
 "metadata": {
  "kernelspec": {
   "display_name": "Python 3",
   "language": "python",
   "name": "python3"
  },
  "language_info": {
   "codemirror_mode": {
    "name": "ipython",
    "version": 3
   },
   "file_extension": ".py",
   "mimetype": "text/x-python",
   "name": "python",
   "nbconvert_exporter": "python",
   "pygments_lexer": "ipython3",
   "version": "3.12.5"
  }
 },
 "nbformat": 4,
 "nbformat_minor": 2
}
