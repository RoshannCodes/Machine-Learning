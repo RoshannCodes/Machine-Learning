{
 "cells": [
  {
   "cell_type": "code",
   "execution_count": 22,
   "metadata": {},
   "outputs": [],
   "source": [
    "import numpy as np\n",
    "import pandas as pd\n",
    "import math\n",
    "from sklearn import linear_model"
   ]
  },
  {
   "cell_type": "code",
   "execution_count": 35,
   "metadata": {},
   "outputs": [
    {
     "name": "stdout",
     "output_type": "stream",
     "text": [
      "Using gradient descent, the value of m and b is found to be: 1.9783600000000003, 0.027960000000000002.\n",
      "Prediction for m and b using sklearn is: {}, {}  [1.01773624] 1.9152193111568891\n"
     ]
    }
   ],
   "source": [
    "def prediction_by_sklearn(df):\n",
    "    reg = linear_model.LinearRegression()\n",
    "    reg.fit(df[['math']],df.cs)\n",
    "    return reg.coef_,reg.intercept_\n",
    "\n",
    "def gradient_descent(x,y):\n",
    "    iteration = 100000\n",
    "    m_curr = b_curr = 0\n",
    "    learning_rate = 0.0002\n",
    "    n=len(x)\n",
    "\n",
    "    for i in range(iteration):\n",
    "        y_predicted = m_curr * x + b_curr\n",
    "        md = -(2/n) * sum(x*(y-y_predicted))\n",
    "        bd = -(2/n) * sum(y-y_predicted)\n",
    "        m_curr = m_curr - learning_rate * md\n",
    "        b_curr = b_curr - learning_rate * bd\n",
    "        cost = 1/n * sum(val**2 for val in (y-y_predicted))\n",
    "        cost_previous = cost\n",
    "        if math.isclose(cost,cost_previous,rel_tol=1e-20):\n",
    "            break\n",
    "        \n",
    "        print(\"m  {}, b  {},  cost  {},  iteration  {}\".format(m_curr,b_curr,cost,i))\n",
    "    \n",
    "    return m_curr,b_curr\n",
    "    \n",
    "df = pd.read_csv('test_scores.csv')\n",
    "x = np.array(df.math)\n",
    "y = np.array(df.cs)\n",
    "\n",
    "(m,b) =gradient_descent(x,y)\n",
    "print(\"Using gradient descent, the value of m and b is found to be: {}, {}.\".format(m,b))\n",
    "\n",
    "\n",
    "m_sklearn, b_sklearn = prediction_by_sklearn(df)\n",
    "print('Prediction for m and b using sklearn is: {}, {} ',m_sklearn,b_sklearn)\n",
    "\n",
    "      "
   ]
  },
  {
   "cell_type": "code",
   "execution_count": null,
   "metadata": {},
   "outputs": [],
   "source": []
  }
 ],
 "metadata": {
  "kernelspec": {
   "display_name": "Python 3",
   "language": "python",
   "name": "python3"
  },
  "language_info": {
   "codemirror_mode": {
    "name": "ipython",
    "version": 3
   },
   "file_extension": ".py",
   "mimetype": "text/x-python",
   "name": "python",
   "nbconvert_exporter": "python",
   "pygments_lexer": "ipython3",
   "version": "3.12.5"
  }
 },
 "nbformat": 4,
 "nbformat_minor": 2
}
